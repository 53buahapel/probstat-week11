{
 "cells": [
  {
   "cell_type": "markdown",
   "id": "0f1c3707",
   "metadata": {},
   "source": [
    "## Initialize the environment"
   ]
  },
  {
   "cell_type": "code",
   "execution_count": 2,
   "id": "fb69306f",
   "metadata": {},
   "outputs": [],
   "source": [
    "import pandas as pd\n",
    "import numpy as np\n",
    "\n",
    "df = pd.read_csv('Occupancy_Estimation.csv')"
   ]
  },
  {
   "cell_type": "markdown",
   "id": "9f5afeec",
   "metadata": {},
   "source": [
    "## Question 1: Proportion Test for Sound Spikes\n",
    "\n",
    "**Goal:** 95% CI for $p=\\Pr[S1\\_Sound>1]$, test $H_0:p=0.025$.\n",
    "\n",
    "1. **Count spikes**:"
   ]
  },
  {
   "cell_type": "code",
   "execution_count": 9,
   "id": "667a07bc",
   "metadata": {},
   "outputs": [
    {
     "name": "stdout",
     "output_type": "stream",
     "text": [
      "Total samples: 10129\n",
      "Spikes: 280\n",
      "Sample proportion (p̂): 0.02764\n"
     ]
    }
   ],
   "source": [
    "spikes = (df[\"S1_Sound\"] > 1).sum()\n",
    "n = len(df)\n",
    "phat = spikes / n\n",
    "\n",
    "print(f\"Total samples: {n}\")\n",
    "print(f\"Spikes: {spikes}\")\n",
    "print(f\"Sample proportion (p̂): {phat:.5f}\")"
   ]
  },
  {
   "cell_type": "markdown",
   "id": "45159a88",
   "metadata": {},
   "source": [
    "2. **Check normal approx**: ensure $n p_0\\ge10$ and $n(1-p_0)\\ge10$."
   ]
  },
  {
   "cell_type": "code",
   "execution_count": 10,
   "id": "a72a478d",
   "metadata": {},
   "outputs": [
    {
     "name": "stdout",
     "output_type": "stream",
     "text": [
      "np0 = 253.22500000000002, n(1-p0) = 9875.775\n",
      "Normal approximation is valid.\n"
     ]
    }
   ],
   "source": [
    "p0 = 0.025\n",
    "np0 = n * p0\n",
    "nq0 = n * (1 - p0)\n",
    "print(f\"np0 = {np0}, n(1-p0) = {nq0}\")\n",
    "print(\"Normal approximation is valid.\" if np0 >= 10 and nq0 >= 10 else \"Normal approximation is NOT valid.\")"
   ]
  },
  {
   "cell_type": "markdown",
   "id": "4a1754cc",
   "metadata": {},
   "source": [
    "3. **95% CI** (Wald):\n",
    "\n",
    "   $$\n",
    "     \\hat p \\pm z_{0.975} \\sqrt{\\frac{\\hat p(1-\\hat p)}{n}}\n",
    "   $$"
   ]
  },
  {
   "cell_type": "code",
   "execution_count": 11,
   "id": "8a17bab2",
   "metadata": {},
   "outputs": [
    {
     "name": "stdout",
     "output_type": "stream",
     "text": [
      "95% CI: [0.02445, 0.03084]\n"
     ]
    }
   ],
   "source": [
    "import numpy as np\n",
    "from scipy.stats import norm\n",
    "\n",
    "z = norm.ppf(0.975)  # 95% confidence\n",
    "se = np.sqrt(phat * (1 - phat) / n)\n",
    "margin = z * se\n",
    "ci_lower = phat - margin\n",
    "ci_upper = phat + margin\n",
    "\n",
    "print(f\"95% CI: [{ci_lower:.5f}, {ci_upper:.5f}]\")"
   ]
  },
  {
   "cell_type": "markdown",
   "id": "5f0031cf",
   "metadata": {},
   "source": [
    "4. **Z-test**:\n",
    "\n",
    "   $$\n",
    "     z = \\frac{\\hat p - 0.025}{\\sqrt{0.025\\,(1-0.025)/n}},\\quad\n",
    "     p\\text{-value}=2(1-\\Phi(|z|))\n",
    "   $$"
   ]
  },
  {
   "cell_type": "code",
   "execution_count": 12,
   "id": "401f7e6f",
   "metadata": {},
   "outputs": [
    {
     "name": "stdout",
     "output_type": "stream",
     "text": [
      "Z-statistic: 1.7040\n",
      "P-value: 0.0884\n",
      "Fail to reject H0: No significant difference from 0.025.\n"
     ]
    }
   ],
   "source": [
    "# Z-test\n",
    "se_h0 = np.sqrt(p0 * (1 - p0) / n)\n",
    "z_stat = (phat - p0) / se_h0\n",
    "p_value = 2 * (1 - norm.cdf(abs(z_stat)))\n",
    "\n",
    "print(f\"Z-statistic: {z_stat:.4f}\")\n",
    "print(f\"P-value: {p_value:.4f}\")\n",
    "\n",
    "if p_value < 0.05:\n",
    "    print(\"Reject H0: There is a significant difference from 0.025.\")\n",
    "else:\n",
    "    print(\"Fail to reject H0: No significant difference from 0.025.\")"
   ]
  },
  {
   "cell_type": "markdown",
   "id": "40ce157b",
   "metadata": {},
   "source": [
    "### Interpretation\n",
    "\n",
    "* If $p$-value < 0.05, conclude $p\\neq0.025$.\n",
    "* Report CI, e.g. “We estimate $p=…$ with 95% CI $[…,…]$.”\n",
    "* Confirm normal-approx holds (both $np_0$ and $n(1-p_0)\\ge10$)."
   ]
  },
  {
   "cell_type": "markdown",
   "id": "cc14536e",
   "metadata": {},
   "source": [
    "## Question 2: One-Sample Mean Test for Temperature\n",
    "\n",
    "**Goal:** Is $\\mu_{\\rm temp}=25$°C?\n",
    "\n",
    "1. **Compute sample mean & std**:"
   ]
  }
 ],
 "metadata": {
  "kernelspec": {
   "display_name": "Python 3",
   "language": "python",
   "name": "python3"
  },
  "language_info": {
   "codemirror_mode": {
    "name": "ipython",
    "version": 3
   },
   "file_extension": ".py",
   "mimetype": "text/x-python",
   "name": "python",
   "nbconvert_exporter": "python",
   "pygments_lexer": "ipython3",
   "version": "3.13.1"
  }
 },
 "nbformat": 4,
 "nbformat_minor": 5
}
