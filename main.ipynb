{
 "cells": [
  {
   "cell_type": "markdown",
   "id": "0f1c3707",
   "metadata": {},
   "source": [
    "## Initialize the environment"
   ]
  },
  {
   "cell_type": "code",
   "execution_count": 26,
   "id": "fb69306f",
   "metadata": {},
   "outputs": [],
   "source": [
    "import pandas as pd\n",
    "import numpy as np\n",
    "from scipy.stats import pearsonr\n",
    "import matplotlib.pyplot as plt\n",
    "import statsmodels.api as sm\n",
    "\n",
    "df = pd.read_csv('Occupancy_Estimation.csv')"
   ]
  },
  {
   "cell_type": "markdown",
   "id": "9f5afeec",
   "metadata": {},
   "source": [
    "## Question 1: Proportion Test for Sound Spikes\n",
    "\n",
    "**Goal:** 95% CI for $p=\\Pr[S1\\_Sound>1]$, test $H_0:p=0.025$.\n",
    "\n",
    "1. **Count spikes**:"
   ]
  },
  {
   "cell_type": "code",
   "execution_count": 27,
   "id": "667a07bc",
   "metadata": {},
   "outputs": [
    {
     "name": "stdout",
     "output_type": "stream",
     "text": [
      "Total samples: 10129\n",
      "Spikes: 280\n",
      "Sample proportion (p̂): 0.02764\n"
     ]
    }
   ],
   "source": [
    "spikes = (df[\"S1_Sound\"] > 1).sum()\n",
    "n = len(df)\n",
    "phat = spikes / n\n",
    "\n",
    "print(f\"Total samples: {n}\")\n",
    "print(f\"Spikes: {spikes}\")\n",
    "print(f\"Sample proportion (p̂): {phat:.5f}\")"
   ]
  },
  {
   "cell_type": "markdown",
   "id": "45159a88",
   "metadata": {},
   "source": [
    "2. **Check normal approx**: ensure $n p_0\\ge10$ and $n(1-p_0)\\ge10$."
   ]
  },
  {
   "cell_type": "code",
   "execution_count": 28,
   "id": "a72a478d",
   "metadata": {},
   "outputs": [
    {
     "name": "stdout",
     "output_type": "stream",
     "text": [
      "np0 = 253.22500000000002, n(1-p0) = 9875.775\n",
      "Normal approximation is valid.\n"
     ]
    }
   ],
   "source": [
    "p0 = 0.025\n",
    "np0 = n * p0\n",
    "nq0 = n * (1 - p0)\n",
    "print(f\"np0 = {np0}, n(1-p0) = {nq0}\")\n",
    "print(\"Normal approximation is valid.\" if np0 >= 10 and nq0 >= 10 else \"Normal approximation is NOT valid.\")"
   ]
  },
  {
   "cell_type": "markdown",
   "id": "4a1754cc",
   "metadata": {},
   "source": [
    "3. **95% CI** (Wald):\n",
    "\n",
    "   $$\n",
    "     \\hat p \\pm z_{0.975} \\sqrt{\\frac{\\hat p(1-\\hat p)}{n}}\n",
    "   $$"
   ]
  },
  {
   "cell_type": "code",
   "execution_count": 29,
   "id": "8a17bab2",
   "metadata": {},
   "outputs": [
    {
     "name": "stdout",
     "output_type": "stream",
     "text": [
      "95% CI: [0.02445, 0.03084]\n"
     ]
    }
   ],
   "source": [
    "import numpy as np\n",
    "from scipy.stats import norm\n",
    "\n",
    "z = norm.ppf(0.975)  # 95% confidence\n",
    "se = np.sqrt(phat * (1 - phat) / n)\n",
    "margin = z * se\n",
    "ci_lower = phat - margin\n",
    "ci_upper = phat + margin\n",
    "\n",
    "print(f\"95% CI: [{ci_lower:.5f}, {ci_upper:.5f}]\")"
   ]
  },
  {
   "cell_type": "markdown",
   "id": "5f0031cf",
   "metadata": {},
   "source": [
    "4. **Z-test**:\n",
    "\n",
    "   $$\n",
    "     z = \\frac{\\hat p - 0.025}{\\sqrt{0.025\\,(1-0.025)/n}},\\quad\n",
    "     p\\text{-value}=2(1-\\Phi(|z|))\n",
    "   $$"
   ]
  },
  {
   "cell_type": "code",
   "execution_count": 30,
   "id": "401f7e6f",
   "metadata": {},
   "outputs": [
    {
     "name": "stdout",
     "output_type": "stream",
     "text": [
      "Z-statistic: 1.7040\n",
      "P-value: 0.0884\n",
      "Fail to reject H0: No significant difference from 0.025.\n"
     ]
    }
   ],
   "source": [
    "# Z-test\n",
    "se_h0 = np.sqrt(p0 * (1 - p0) / n)\n",
    "z_stat = (phat - p0) / se_h0\n",
    "p_value = 2 * (1 - norm.cdf(abs(z_stat)))\n",
    "\n",
    "print(f\"Z-statistic: {z_stat:.4f}\")\n",
    "print(f\"P-value: {p_value:.4f}\")\n",
    "\n",
    "if p_value < 0.05:\n",
    "    print(\"Reject H0: There is a significant difference from 0.025.\")\n",
    "else:\n",
    "    print(\"Fail to reject H0: No significant difference from 0.025.\")"
   ]
  },
  {
   "cell_type": "markdown",
   "id": "40ce157b",
   "metadata": {},
   "source": [
    "### Interpretation\n",
    "\n",
    "* If $p$-value < 0.05, conclude $p\\neq0.025$.\n",
    "* Report CI, e.g. “We estimate $p=…$ with 95% CI $[…,…]$.”\n",
    "* Confirm normal-approx holds (both $np_0$ and $n(1-p_0)\\ge10$)."
   ]
  },
  {
   "cell_type": "markdown",
   "id": "cc14536e",
   "metadata": {},
   "source": [
    "## Question 2: One-Sample Mean Test for Temperature\n",
    "\n",
    "**Goal:** Is $\\mu_{\\rm temp}=25$°C?\n",
    "\n",
    "1. **Compute sample mean & std**:\n",
    "\n",
    "   ```python\n",
    "   x̄ = df[\"S2_Temp\"].mean()\n",
    "   s = df[\"S2_Temp\"].std(ddof=1)\n",
    "   n = len(df)\n",
    "   ```\n",
    "2. **t-statistic**:\n",
    "\n",
    "   $$\n",
    "     t = \\frac{x̄ - 25}{s/\\sqrt{n}},\\quad \\text{df}=n-1\n",
    "   $$\n",
    "3. **p-value**: two-sided from Student’s t."
   ]
  },
  {
   "cell_type": "code",
   "execution_count": 31,
   "id": "93035643",
   "metadata": {},
   "outputs": [
    {
     "name": "stdout",
     "output_type": "stream",
     "text": [
      "Sample mean: 25.5461\n",
      "t-statistic: 93.7312\n",
      "p-value: 0.0000\n"
     ]
    }
   ],
   "source": [
    "from scipy import stats\n",
    "import numpy as np\n",
    "\n",
    "x̄ = df[\"S2_Temp\"].mean()\n",
    "s = df[\"S2_Temp\"].std(ddof=1)\n",
    "n = len(df)\n",
    "t_stat = (x̄ - 25) / (s / np.sqrt(n))\n",
    "p_value = 2 * (1 - stats.t.cdf(abs(t_stat), df=n-1))\n",
    "\n",
    "print(f\"Sample mean: {x̄:.4f}\")\n",
    "print(f\"t-statistic: {t_stat:.4f}\")\n",
    "print(f\"p-value: {p_value:.4f}\")"
   ]
  },
  {
   "cell_type": "markdown",
   "id": "298211ce",
   "metadata": {},
   "source": [
    "4. **95% CI**:\n",
    "\n",
    "   $$\n",
    "     x̄ \\pm t_{0.975,\\,n-1}\\,\\frac{s}{\\sqrt{n}}\n",
    "   $$"
   ]
  },
  {
   "cell_type": "code",
   "execution_count": 32,
   "id": "81f2abfc",
   "metadata": {},
   "outputs": [
    {
     "name": "stdout",
     "output_type": "stream",
     "text": [
      "95% CI: [25.5346, 25.5575]\n"
     ]
    }
   ],
   "source": [
    "# 95% Confidence Interval\n",
    "t_crit = stats.t.ppf(0.975, df=n-1)\n",
    "margin = t_crit * s / np.sqrt(n)\n",
    "ci = (x̄ - margin, x̄ + margin)\n",
    "print(f\"95% CI: [{ci[0]:.4f}, {ci[1]:.4f}]\")"
   ]
  },
  {
   "cell_type": "markdown",
   "id": "cc83807c",
   "metadata": {},
   "source": [
    "### Interpretation\n",
    "\n",
    "* If $p<0.05$, mean differs from 25 °C.\n",
    "* State CI, e.g. “95% CI for μ is \\[…,…]°C.”"
   ]
  },
  {
   "cell_type": "markdown",
   "id": "5bc70393",
   "metadata": {},
   "source": [
    "## Question 3: Correlation Occupancy ↔ CO₂\n",
    "\n",
    "**Goal:** Pearson $r$ and significance.\n",
    "\n",
    "1. **Pearson**:"
   ]
  },
  {
   "cell_type": "code",
   "execution_count": 33,
   "id": "552bddc4",
   "metadata": {},
   "outputs": [
    {
     "name": "stdout",
     "output_type": "stream",
     "text": [
      "Pearson r: 0.6601, p-value: 0.0000\n"
     ]
    }
   ],
   "source": [
    "r, p = pearsonr(df[\"Room_Occupancy_Count\"], df[\"S5_CO2\"])\n",
    "print(f\"Pearson r: {r:.4f}, p-value: {p:.4f}\")"
   ]
  },
  {
   "cell_type": "markdown",
   "id": "7689495e",
   "metadata": {},
   "source": [
    "2. **Scatterplot**:"
   ]
  },
  {
   "cell_type": "code",
   "execution_count": 34,
   "id": "182baf0d",
   "metadata": {},
   "outputs": [
    {
     "data": {
      "image/png": "[encoded data removed]",
      "text/plain": [
       "<Figure size 640x480 with 1 Axes>"
      ]
     },
     "metadata": {},
     "output_type": "display_data"
    }
   ],
   "source": [
    "plt.scatter(df[\"Room_Occupancy_Count\"], df[\"S5_CO2\"])\n",
    "plt.xlabel(\"Room Occupancy Count\")\n",
    "plt.ylabel(\"S5_CO2\")\n",
    "plt.title(\"Occupancy vs CO2\")\n",
    "plt.show()"
   ]
  },
  {
   "cell_type": "markdown",
   "id": "a990e825",
   "metadata": {},
   "source": [
    "### Interpretation\n",
    "\n",
    "* Report “$r=…$, $p$-value=…; indicates \\[weak/moderate/strong] \\[positive/negative] correlation.”\n",
    "* Show scatter to visualize linear trend.\n"
   ]
  },
  {
   "cell_type": "markdown",
   "id": "8a59e695",
   "metadata": {},
   "source": [
    "## Question 4: Correlation Ambient Temp ↔ CO₂ & CO₂ Slope\n",
    "\n",
    "**Goal:** AvgTemp vs. S5\\_CO2 and vs. S5\\_CO2\\_Slope.\n",
    "\n",
    "1. **Compute avg\\_temp**:"
   ]
  },
  {
   "cell_type": "code",
   "execution_count": 35,
   "id": "39efd9bd",
   "metadata": {},
   "outputs": [
    {
     "data": {
      "text/plain": [
       "0    24.9075\n",
       "1    24.9225\n",
       "2    24.9225\n",
       "3    24.9375\n",
       "4    24.9375\n",
       "Name: avg_temp, dtype: float64"
      ]
     },
     "execution_count": 35,
     "metadata": {},
     "output_type": "execute_result"
    }
   ],
   "source": [
    "df[\"avg_temp\"] = df[[\"S1_Temp\",\"S2_Temp\",\"S3_Temp\",\"S4_Temp\"]].mean(axis=1)\n",
    "df[\"avg_temp\"].head()"
   ]
  },
  {
   "cell_type": "markdown",
   "id": "2e4e8849",
   "metadata": {},
   "source": [
    "2. **Pearson tests average temp vs S5_CO2**:"
   ]
  },
  {
   "cell_type": "code",
   "execution_count": 36,
   "id": "1ec18bbb",
   "metadata": {},
   "outputs": [
    {
     "name": "stdout",
     "output_type": "stream",
     "text": [
      "avg_temp vs S5_CO2: r = 0.8287, p = 0.0000\n"
     ]
    }
   ],
   "source": [
    "r1, p1 = pearsonr(df[\"avg_temp\"], df[\"S5_CO2\"])\n",
    "print(f\"avg_temp vs S5_CO2: r = {r1:.4f}, p = {p1:.4f}\")"
   ]
  },
  {
   "cell_type": "markdown",
   "id": "c84a1cc5",
   "metadata": {},
   "source": [
    "3. **Pearson tests average temp vs S5_CO2_Slope**:"
   ]
  },
  {
   "cell_type": "code",
   "execution_count": 37,
   "id": "658e306a",
   "metadata": {},
   "outputs": [
    {
     "name": "stdout",
     "output_type": "stream",
     "text": [
      "avg_temp vs S5_CO2_Slope: r = 0.1540, p = 0.0000\n"
     ]
    }
   ],
   "source": [
    "r2, p2 = pearsonr(df[\"avg_temp\"], df[\"S5_CO2_Slope\"])\n",
    "print(f\"avg_temp vs S5_CO2_Slope: r = {r2:.4f}, p = {p2:.4f}\")"
   ]
  },
  {
   "cell_type": "markdown",
   "id": "cd80e507",
   "metadata": {},
   "source": [
    "### Interpretation\n",
    "\n",
    "* “Avg temp correlates with CO₂ at $r_1=…$ ($p_1=…$); with CO₂ slope at $r_2=…$ ($p_2=…$).”"
   ]
  },
  {
   "cell_type": "markdown",
   "id": "b0fcf588",
   "metadata": {},
   "source": [
    "## Question 5: OLS Regression for CO₂ Prediction\n",
    "\n",
    "**Goal:** Predict S5\\_CO2 from temps, lights, and occupancy.\n",
    "\n",
    "1. **Select predictors**:"
   ]
  },
  {
   "cell_type": "code",
   "execution_count": 38,
   "id": "b7b30919",
   "metadata": {},
   "outputs": [],
   "source": [
    "X = df[[\"S1_Temp\",\"S2_Temp\",\"S3_Temp\",\"S4_Temp\",\n",
    "        \"S1_Light\",\"S2_Light\",\"S3_Light\",\"S4_Light\",\n",
    "        \"Room_Occupancy_Count\"]]\n",
    "y = df[\"S5_CO2\"]"
   ]
  },
  {
   "cell_type": "markdown",
   "id": "0454be91",
   "metadata": {},
   "source": [
    "2. **Fit OLS** (statsmodels):"
   ]
  },
  {
   "cell_type": "code",
   "execution_count": 39,
   "id": "7876f0da",
   "metadata": {},
   "outputs": [
    {
     "name": "stdout",
     "output_type": "stream",
     "text": [
      "                            OLS Regression Results                            \n",
      "==============================================================================\n",
      "Dep. Variable:                 S5_CO2   R-squared:                       0.837\n",
      "Model:                            OLS   Adj. R-squared:                  0.837\n",
      "Method:                 Least Squares   F-statistic:                     5769.\n",
      "Date:                Tue, 20 May 2025   Prob (F-statistic):               0.00\n",
      "Time:                        20:26:54   Log-Likelihood:                -58853.\n",
      "No. Observations:               10129   AIC:                         1.177e+05\n",
      "Df Residuals:                   10119   BIC:                         1.178e+05\n",
      "Df Model:                           9                                         \n",
      "Covariance Type:            nonrobust                                         \n",
      "========================================================================================\n",
      "                           coef    std err          t      P>|t|      [0.025      0.975]\n",
      "----------------------------------------------------------------------------------------\n",
      "const                -9819.8631    106.183    -92.480      0.000      -1e+04   -9611.723\n",
      "S1_Temp                499.2505     11.175     44.675      0.000     477.345     521.156\n",
      "S2_Temp                 37.9378      2.700     14.053      0.000      32.646      43.229\n",
      "S3_Temp                 91.7998      8.162     11.247      0.000      75.801     107.799\n",
      "S4_Temp               -221.3896      5.507    -40.200      0.000    -232.185    -210.594\n",
      "S1_Light                -0.8367      0.049    -17.170      0.000      -0.932      -0.741\n",
      "S2_Light                 0.6601      0.025     26.229      0.000       0.611       0.709\n",
      "S3_Light                 1.2019      0.029     41.702      0.000       1.145       1.258\n",
      "S4_Light                -1.1992      0.068    -17.744      0.000      -1.332      -1.067\n",
      "Room_Occupancy_Count   -40.2926      2.165    -18.609      0.000     -44.537     -36.048\n",
      "==============================================================================\n",
      "Omnibus:                     1182.089   Durbin-Watson:                   0.051\n",
      "Prob(Omnibus):                  0.000   Jarque-Bera (JB):             2035.622\n",
      "Skew:                           0.798   Prob(JB):                         0.00\n",
      "Kurtosis:                       4.510   Cond. No.                     1.48e+04\n",
      "==============================================================================\n",
      "\n",
      "Notes:\n",
      "[1] Standard Errors assume that the covariance matrix of the errors is correctly specified.\n",
      "[2] The condition number is large, 1.48e+04. This might indicate that there are\n",
      "strong multicollinearity or other numerical problems.\n"
     ]
    }
   ],
   "source": [
    "X2 = sm.add_constant(X)\n",
    "model = sm.OLS(y, X2).fit()\n",
    "print(model.summary())"
   ]
  },
  {
   "cell_type": "markdown",
   "id": "5b794cbc",
   "metadata": {},
   "source": [
    "3. **Key outputs**:\n",
    "\n",
    "   * **R²**: overall fit\n",
    "   * **Coefficients** with p-values\n",
    "\n",
    "4. **Pred vs. Actual plot**:"
   ]
  },
  {
   "cell_type": "code",
   "execution_count": 40,
   "id": "399098f7",
   "metadata": {},
   "outputs": [
    {
     "data": {
      "image/png": "[encoded data removed]",
      "text/plain": [
       "<Figure size 640x480 with 1 Axes>"
      ]
     },
     "metadata": {},
     "output_type": "display_data"
    }
   ],
   "source": [
    "y_pred = model.predict(X2)\n",
    "plt.scatter(y, y_pred)\n",
    "plt.xlabel(\"Actual CO2\")\n",
    "plt.ylabel(\"Predicted CO2\")\n",
    "plt.title(\"Actual vs Predicted CO2\")\n",
    "plt.show()"
   ]
  },
  {
   "cell_type": "markdown",
   "id": "f32ad3fa",
   "metadata": {},
   "source": [
    "### Interpretation\n",
    "\n",
    "* Highlight the largest significant predictors (e.g. “each +1 °C in S2\\_Temp ↦ +0.8 ppm CO₂, $p<0.01$”).\n",
    "* Comment on R²: “Model explains \\~X% of CO₂ variability.”"
   ]
  },
  {
   "cell_type": "markdown",
   "id": "8663dbc3",
   "metadata": {},
   "source": [
    "## Question 6: OLS Regression for Occupancy Prediction\n",
    "\n",
    "**Goal:** Predict Room\\_Occupancy\\_Count from aggregates & sensors.\n",
    "\n",
    "1. **Compute aggregates**:"
   ]
  },
  {
   "cell_type": "code",
   "execution_count": 41,
   "id": "252da9e7",
   "metadata": {},
   "outputs": [],
   "source": [
    "df[\"avg_light\"] = df[[\"S1_Light\",\"S2_Light\",\"S3_Light\",\"S4_Light\"]].mean(axis=1)\n",
    "df[\"avg_sound\"] = df[[\"S1_Sound\",\"S2_Sound\",\"S3_Sound\",\"S4_Sound\"]].mean(axis=1)"
   ]
  },
  {
   "cell_type": "markdown",
   "id": "82aac53d",
   "metadata": {},
   "source": [
    "2. **Fit OLS**:"
   ]
  },
  {
   "cell_type": "code",
   "execution_count": 42,
   "id": "1cb12517",
   "metadata": {},
   "outputs": [
    {
     "name": "stdout",
     "output_type": "stream",
     "text": [
      "                             OLS Regression Results                             \n",
      "================================================================================\n",
      "Dep. Variable:     Room_Occupancy_Count   R-squared:                       0.810\n",
      "Model:                              OLS   Adj. R-squared:                  0.810\n",
      "Method:                   Least Squares   F-statistic:                     7199.\n",
      "Date:                  Tue, 20 May 2025   Prob (F-statistic):               0.00\n",
      "Time:                          20:26:54   Log-Likelihood:                -4817.7\n",
      "No. Observations:                 10129   AIC:                             9649.\n",
      "Df Residuals:                     10122   BIC:                             9700.\n",
      "Df Model:                             6                                         \n",
      "Covariance Type:              nonrobust                                         \n",
      "==============================================================================\n",
      "                 coef    std err          t      P>|t|      [0.025      0.975]\n",
      "------------------------------------------------------------------------------\n",
      "const         -4.5687      0.467     -9.793      0.000      -5.483      -3.654\n",
      "avg_temp       0.1719      0.019      9.132      0.000       0.135       0.209\n",
      "avg_light      0.0106      0.000     72.154      0.000       0.010       0.011\n",
      "avg_sound      0.1437      0.024      5.986      0.000       0.097       0.191\n",
      "S5_CO2         0.0005   3.53e-05     13.860      0.000       0.000       0.001\n",
      "S6_PIR         0.3103      0.018     17.002      0.000       0.275       0.346\n",
      "S7_PIR         0.7310      0.020     36.756      0.000       0.692       0.770\n",
      "==============================================================================\n",
      "Omnibus:                     5953.800   Durbin-Watson:                   0.223\n",
      "Prob(Omnibus):                  0.000   Jarque-Bera (JB):           110904.855\n",
      "Skew:                           2.457   Prob(JB):                         0.00\n",
      "Kurtosis:                      18.448   Cond. No.                     6.08e+04\n",
      "==============================================================================\n",
      "\n",
      "Notes:\n",
      "[1] Standard Errors assume that the covariance matrix of the errors is correctly specified.\n",
      "[2] The condition number is large, 6.08e+04. This might indicate that there are\n",
      "strong multicollinearity or other numerical problems.\n"
     ]
    }
   ],
   "source": [
    "X = df[[\"avg_temp\",\"avg_light\",\"avg_sound\",\"S5_CO2\",\"S6_PIR\",\"S7_PIR\"]]\n",
    "y = df[\"Room_Occupancy_Count\"]\n",
    "X2 = sm.add_constant(X)\n",
    "\n",
    "occ_model = sm.OLS(y, X2).fit()\n",
    "print(occ_model.summary())"
   ]
  },
  {
   "cell_type": "markdown",
   "id": "cb7ec342",
   "metadata": {},
   "source": [
    "### Interpretation\n",
    "\n",
    "* Note which environmental factors best predict occupancy.\n",
    "* If R² low or only one strong predictor, discuss “limited variation in occupancy counts may weaken model.”\n",
    "\n",
    "---\n",
    "\n",
    "## Putting It All Together\n",
    "\n",
    "When you write up your report, emphasize:\n",
    "\n",
    "* **Q1**: “Observed spike rate = … (95% CI: \\[…,…]); normal approx OK; $p$-value=… → \\[not] different from 2.5%.”\n",
    "* **Q2**: “Mean = …°C (95% CI: \\[…,…]); $t$-statistic=…, $p$=… → \\[no] evidence mean ≠ 25°C.”\n",
    "* **Q3–4**: Correlation coefficients with brief interpretation.\n",
    "* **Q5**: R² and top 2–3 predictors—plot actual vs. predicted.\n",
    "* **Q6**: R², significant predictors, note any occupancy data limitations."
   ]
  }
 ],
 "metadata": {
  "kernelspec": {
   "display_name": "Python 3",
   "language": "python",
   "name": "python3"
  },
  "language_info": {
   "codemirror_mode": {
    "name": "ipython",
    "version": 3
   },
   "file_extension": ".py",
   "mimetype": "text/x-python",
   "name": "python",
   "nbconvert_exporter": "python",
   "pygments_lexer": "ipython3",
   "version": "3.13.1"
  }
 },
 "nbformat": 4,
 "nbformat_minor": 5
}
